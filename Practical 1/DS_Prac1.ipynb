{
  "nbformat": 4,
  "nbformat_minor": 0,
  "metadata": {
    "colab": {
      "name": "DS_Prac1.ipynb",
      "provenance": []
    },
    "kernelspec": {
      "name": "python3",
      "display_name": "Python 3"
    }
  },
  "cells": [
    {
      "cell_type": "code",
      "metadata": {
        "id": "dnywH8r4xrrp"
      },
      "source": [
        "import pandas as pd\n",
        "import matplotlib.pyplot as plt\n",
        "from sklearn.model_selection import train_test_split\n",
        "from sklearn.preprocessing import MinMaxScaler\n",
        "from sklearn.neighbors import KNeighborsClassifier\n",
        "from sklearn.metrics import accuracy_score\n",
        "from sklearn.preprocessing import scale\n",
        "from sklearn.linear_model import LogisticRegression\n",
        "from sklearn.preprocessing import LabelEncoder\n",
        "from sklearn.preprocessing import OneHotEncoder"
      ],
      "execution_count": null,
      "outputs": []
    },
    {
      "cell_type": "code",
      "metadata": {
        "id": "5Ex9o8TRyR0T",
        "outputId": "b11677ba-1095-4fdd-960b-188b022ff801",
        "colab": {
          "base_uri": "https://localhost:8080/",
          "height": 206
        }
      },
      "source": [
        "df=pd.read_csv('BMI.csv')\n",
        "df.head()"
      ],
      "execution_count": null,
      "outputs": [
        {
          "output_type": "execute_result",
          "data": {
            "text/html": [
              "<div>\n",
              "<style scoped>\n",
              "    .dataframe tbody tr th:only-of-type {\n",
              "        vertical-align: middle;\n",
              "    }\n",
              "\n",
              "    .dataframe tbody tr th {\n",
              "        vertical-align: top;\n",
              "    }\n",
              "\n",
              "    .dataframe thead th {\n",
              "        text-align: right;\n",
              "    }\n",
              "</style>\n",
              "<table border=\"1\" class=\"dataframe\">\n",
              "  <thead>\n",
              "    <tr style=\"text-align: right;\">\n",
              "      <th></th>\n",
              "      <th>Gender</th>\n",
              "      <th>Height</th>\n",
              "      <th>Weight</th>\n",
              "      <th>Index</th>\n",
              "    </tr>\n",
              "  </thead>\n",
              "  <tbody>\n",
              "    <tr>\n",
              "      <th>0</th>\n",
              "      <td>Male</td>\n",
              "      <td>174</td>\n",
              "      <td>96</td>\n",
              "      <td>4</td>\n",
              "    </tr>\n",
              "    <tr>\n",
              "      <th>1</th>\n",
              "      <td>Male</td>\n",
              "      <td>189</td>\n",
              "      <td>87</td>\n",
              "      <td>2</td>\n",
              "    </tr>\n",
              "    <tr>\n",
              "      <th>2</th>\n",
              "      <td>Female</td>\n",
              "      <td>185</td>\n",
              "      <td>110</td>\n",
              "      <td>4</td>\n",
              "    </tr>\n",
              "    <tr>\n",
              "      <th>3</th>\n",
              "      <td>Female</td>\n",
              "      <td>195</td>\n",
              "      <td>104</td>\n",
              "      <td>3</td>\n",
              "    </tr>\n",
              "    <tr>\n",
              "      <th>4</th>\n",
              "      <td>Male</td>\n",
              "      <td>149</td>\n",
              "      <td>61</td>\n",
              "      <td>3</td>\n",
              "    </tr>\n",
              "  </tbody>\n",
              "</table>\n",
              "</div>"
            ],
            "text/plain": [
              "   Gender  Height  Weight  Index\n",
              "0    Male     174      96      4\n",
              "1    Male     189      87      2\n",
              "2  Female     185     110      4\n",
              "3  Female     195     104      3\n",
              "4    Male     149      61      3"
            ]
          },
          "metadata": {
            "tags": []
          },
          "execution_count": 49
        }
      ]
    },
    {
      "cell_type": "code",
      "metadata": {
        "id": "EM076O3QzBA0",
        "outputId": "f120abab-256b-4418-e38d-9e68a49f2057",
        "colab": {
          "base_uri": "https://localhost:8080/",
          "height": 591
        }
      },
      "source": [
        "df.hist(figsize=[8,8])"
      ],
      "execution_count": null,
      "outputs": [
        {
          "output_type": "execute_result",
          "data": {
            "text/plain": [
              "array([[<matplotlib.axes._subplots.AxesSubplot object at 0x7f742b3a15c0>,\n",
              "        <matplotlib.axes._subplots.AxesSubplot object at 0x7f7427f91438>],\n",
              "       [<matplotlib.axes._subplots.AxesSubplot object at 0x7f7427f3f6a0>,\n",
              "        <matplotlib.axes._subplots.AxesSubplot object at 0x7f7427ef1908>]],\n",
              "      dtype=object)"
            ]
          },
          "metadata": {
            "tags": []
          },
          "execution_count": 51
        },
        {
          "output_type": "display_data",
          "data": {
            "image/png": "[encoded data removed]",
            "text/plain": [
              "<Figure size 576x576 with 4 Axes>"
            ]
          },
          "metadata": {
            "tags": [],
            "needs_background": "light"
          }
        }
      ]
    },
    {
      "cell_type": "code",
      "metadata": {
        "id": "yFpVQFZn4_R9",
        "outputId": "f1114728-3f91-463f-e605-10d07d1f49c2",
        "colab": {
          "base_uri": "https://localhost:8080/",
          "height": 109
        }
      },
      "source": [
        "df.isnull().sum()"
      ],
      "execution_count": null,
      "outputs": [
        {
          "output_type": "execute_result",
          "data": {
            "text/plain": [
              "Gender    0\n",
              "Height    0\n",
              "Weight    0\n",
              "Index     0\n",
              "dtype: int64"
            ]
          },
          "metadata": {
            "tags": []
          },
          "execution_count": 6
        }
      ]
    },
    {
      "cell_type": "code",
      "metadata": {
        "id": "D36pdC54zS67",
        "outputId": "b7f33d4c-db4f-4b3d-f600-cf65cbbf4698",
        "colab": {
          "base_uri": "https://localhost:8080/",
          "height": 458
        }
      },
      "source": [
        "df.Gender[df.Gender == 'Male'] = 1\n",
        "df.Gender[df.Gender == 'Female'] = 0\n",
        "print(df)"
      ],
      "execution_count": null,
      "outputs": [
        {
          "output_type": "stream",
          "text": [
            "    Gender  Height  Weight  Index\n",
            "0        1     174      96      4\n",
            "1        1     189      87      2\n",
            "2        0     185     110      4\n",
            "3        0     195     104      3\n",
            "4        1     149      61      3\n",
            "..     ...     ...     ...    ...\n",
            "495      0     150     153      5\n",
            "496      0     184     121      4\n",
            "497      0     141     136      5\n",
            "498      1     150      95      5\n",
            "499      1     173     131      5\n",
            "\n",
            "[500 rows x 4 columns]\n"
          ],
          "name": "stdout"
        },
        {
          "output_type": "stream",
          "text": [
            "/usr/local/lib/python3.6/dist-packages/ipykernel_launcher.py:1: SettingWithCopyWarning: \n",
            "A value is trying to be set on a copy of a slice from a DataFrame\n",
            "\n",
            "See the caveats in the documentation: https://pandas.pydata.org/pandas-docs/stable/user_guide/indexing.html#returning-a-view-versus-a-copy\n",
            "  \"\"\"Entry point for launching an IPython kernel.\n",
            "/usr/local/lib/python3.6/dist-packages/ipykernel_launcher.py:2: SettingWithCopyWarning: \n",
            "A value is trying to be set on a copy of a slice from a DataFrame\n",
            "\n",
            "See the caveats in the documentation: https://pandas.pydata.org/pandas-docs/stable/user_guide/indexing.html#returning-a-view-versus-a-copy\n",
            "  \n"
          ],
          "name": "stderr"
        }
      ]
    },
    {
      "cell_type": "code",
      "metadata": {
        "id": "eaPd9X1PshBF"
      },
      "source": [
        "x=df[['Gender','Height','Weight']]\n",
        "y=df['Index']\n",
        "X_train,X_test,Y_train,Y_test = train_test_split(x,y,test_size=0.2)"
      ],
      "execution_count": null,
      "outputs": []
    },
    {
      "cell_type": "code",
      "metadata": {
        "id": "aZ-G4UWtP6js",
        "outputId": "ba9bc02f-48a7-4ae4-e08d-eb0017030a44",
        "colab": {
          "base_uri": "https://localhost:8080/",
          "height": 35
        }
      },
      "source": [
        "x=df[['Gender','Height','Weight']]\n",
        "y=df['Index']\n",
        "X_train,X_test,Y_train,Y_test = train_test_split(x,y,test_size=0.2)\n",
        "knn=KNeighborsClassifier(n_neighbors=3)\n",
        "knn.fit(X_train,Y_train)\n",
        "print(\"Accuracy\",accuracy_score(Y_test,knn.predict(X_test)))\n"
      ],
      "execution_count": null,
      "outputs": [
        {
          "output_type": "stream",
          "text": [
            "Accuracy 0.95\n"
          ],
          "name": "stdout"
        }
      ]
    },
    {
      "cell_type": "markdown",
      "metadata": {
        "id": "PYKd6Ha7uWLn"
      },
      "source": [
        "Data Standardization"
      ]
    },
    {
      "cell_type": "code",
      "metadata": {
        "id": "IqwkwFu_vDsK",
        "outputId": "db97f643-409b-416b-ec15-4088134f82c2",
        "colab": {
          "base_uri": "https://localhost:8080/",
          "height": 35
        }
      },
      "source": [
        "X_train_scale=scale(X_train[['Gender','Height','Weight']])\n",
        "X_test_scale=scale(X_test[['Gender','Height','Weight']])\n",
        "\n",
        "knn_std=KNeighborsClassifier(n_neighbors=3)\n",
        "knn_std.fit(X_train_scale,Y_train)\n",
        "print(\"Accuracy\",accuracy_score(Y_test,knn_std.predict(X_test_scale)))"
      ],
      "execution_count": null,
      "outputs": [
        {
          "output_type": "stream",
          "text": [
            "Accuracy 0.88\n"
          ],
          "name": "stdout"
        }
      ]
    },
    {
      "cell_type": "code",
      "metadata": {
        "id": "w0gJBOBP2Dxv",
        "outputId": "077236e0-8760-42b8-eb90-9e802a12602d",
        "colab": {
          "base_uri": "https://localhost:8080/",
          "height": 35
        }
      },
      "source": [
        "min_max=MinMaxScaler()\n",
        "# Scaling down both train and test data set\n",
        "X_train_minmax=min_max.fit_transform(X_train[['Gender','Height','Weight']])\n",
        "X_test_minmax=min_max.fit_transform(X_test[['Gender','Height','Weight']])\n",
        "knn_minmax=KNeighborsClassifier(n_neighbors=3)\n",
        "knn_minmax.fit(X_train_minmax,Y_train)\n",
        "# Checking the model's accuracy\n",
        "\n",
        "print(\"Accuracy\",accuracy_score(Y_test,knn_minmax.predict(X_test_minmax)))"
      ],
      "execution_count": null,
      "outputs": [
        {
          "output_type": "stream",
          "text": [
            "Accuracy 0.83\n"
          ],
          "name": "stdout"
        }
      ]
    },
    {
      "cell_type": "markdown",
      "metadata": {
        "id": "ZXAVI8eU3Dcx"
      },
      "source": [
        "One Hot Encoding"
      ]
    },
    {
      "cell_type": "code",
      "metadata": {
        "id": "jQxLYwSMvj-0"
      },
      "source": [
        " enc=OneHotEncoder(sparse=False)\n",
        " X_train_1=X_train\n",
        " X_test_1=X_test\n",
        " columns=['Gender','Height','Weight']\n",
        " for col in columns:\n",
        "       # creating an exhaustive list of all possible categorical values\n",
        "       data=X_train[[col]].append(X_test[[col]])\n",
        "       enc.fit(data)\n",
        "       # Fitting One Hot Encoding on train data\n",
        "       temp = enc.transform(X_train[[col]])\n",
        "       # Changing the encoded features into a data frame with new column names\n",
        "       temp=pd.DataFrame(temp,columns=[(col+\"_\"+str(i)) for i in data[col]\n",
        "            .value_counts().index])\n",
        "       # In side by side concatenation index values should be same\n",
        "       # Setting the index values similar to the X_train data frame\n",
        "       temp=temp.set_index(X_train.index.values)\n",
        "       # adding the new One Hot Encoded varibales to the train data frame\n",
        "       X_train_1=pd.concat([X_train_1,temp],axis=1)\n",
        "       # fitting One Hot Encoding on test data\n",
        "       temp = enc.transform(X_test[[col]])\n",
        "       # changing it into data frame and adding column names\n",
        "       temp=pd.DataFrame(temp,columns=[(col+\"_\"+str(i)) for i in data[col]\n",
        "            .value_counts().index])\n",
        "       # Setting the index for proper concatenation\n",
        "       temp=temp.set_index(X_test.index.values)\n",
        "       # adding the new One Hot Encoded varibales to test data frame\n",
        "       X_test_1=pd.concat([X_test_1,temp],axis=1)\n",
        "    "
      ],
      "execution_count": null,
      "outputs": []
    },
    {
      "cell_type": "code",
      "metadata": {
        "id": "qXmZdURjvx8U",
        "outputId": "a203a32c-c554-49f9-de69-bf3cc42d3aa6",
        "colab": {
          "base_uri": "https://localhost:8080/",
          "height": 35
        }
      },
      "source": [
        "# Fitting a logistic knn model\n",
        "knn_hot=KNeighborsClassifier(n_neighbors=3)\n",
        "knn_hot.fit(X_train_1,Y_train)\n",
        "# Checking the model's accuracy\n",
        "print(\"Accuracy\",accuracy_score(Y_test,knn_hot.predict(X_test_1)))"
      ],
      "execution_count": null,
      "outputs": [
        {
          "output_type": "stream",
          "text": [
            "Accuracy 0.84\n"
          ],
          "name": "stdout"
        }
      ]
    }
  ]
}